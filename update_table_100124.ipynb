{
 "cells": [
  {
   "cell_type": "markdown",
   "id": "41ab9d09-f04c-4466-a34f-d0b519e23165",
   "metadata": {
    "jp-MarkdownHeadingCollapsed": true
   },
   "source": [
    "## Overview\n",
    "\n",
    "#### written on 10/01/24\n",
    "\n",
    "#### ~~Following tasks had all been accomplished.~~\n",
    "\n",
    "separate game_version column into version_1 and version_2\n",
    "\n",
    "game_version has been a big obstacle, because I want to use it as number,\n",
    "while the comparison doesn't work as intended in float (version 14.9 is before 14.11, but 14.9 > 14.11)\n",
    "also, if it is treated as float, 14.10 becomes 14.1 (already some records are spoiled)\n",
    "\n",
    "Therefore, separate the column.\n",
    "for spoiled column, since there is no way to separate them out (14.1 and 14.10 are both recorded as 14.10),\n",
    "call the api again and save the right result.\n",
    "for non-spoiled column (version_2 being non-zero for all digits), just separate them into version_1 and version_2 and save them to save api calls (14.16 -> version_1 = 14, version_2 = 16)\n",
    "\n",
    "-> something must have gone wrong, just update all with api calls\n",
    "\n",
    "matches (fill)\n",
    "- version_1 (smallint)\n",
    "- version_2 (smallint)\n",
    "\n",
    "- remove:\n",
    "    - game_version from matches"
   ]
  },
  {
   "cell_type": "markdown",
   "id": "f8e1cb43-5112-4b17-87dc-dbe27685f934",
   "metadata": {},
   "source": [
    "## Import"
   ]
  },
  {
   "cell_type": "code",
   "execution_count": 1,
   "id": "c9c16613-52ee-4372-9a28-7fc3e4b0d999",
   "metadata": {},
   "outputs": [],
   "source": [
    "import time\n",
    "import importlib\n",
    "import api_caller\n",
    "import db_connector"
   ]
  },
  {
   "cell_type": "markdown",
   "id": "5a5f6bd7-1f48-4edb-9463-d2c57f836a97",
   "metadata": {},
   "source": [
    "## API call setting"
   ]
  },
  {
   "cell_type": "code",
   "execution_count": 2,
   "id": "c87577c3-e6f3-4918-a578-72ad6889893c",
   "metadata": {},
   "outputs": [],
   "source": [
    "# Reload the module to ensure the latest changes are reflected\n",
    "importlib.reload(api_caller)\n",
    "\n",
    "caller = api_caller.APICaller()\n",
    "\n",
    "# Test your function call\n",
    "# result = caller.get_account_from_riot_id(\"NoMatterWhoUR\", \"NA1\")\n",
    "# print(result)"
   ]
  },
  {
   "cell_type": "markdown",
   "id": "b4322f01-942e-426d-917d-87ed9d31d9ca",
   "metadata": {},
   "source": [
    "## DB connection setting"
   ]
  },
  {
   "cell_type": "code",
   "execution_count": 3,
   "id": "b95eab40-7a9b-4cba-a283-98294af473ec",
   "metadata": {},
   "outputs": [],
   "source": [
    "# Reload the module to ensure the latest changes are reflected\n",
    "importlib.reload(db_connector)\n",
    "\n",
    "connector = db_connector.DBConnector()"
   ]
  },
  {
   "cell_type": "markdown",
   "id": "46eaa46c-cd2f-4f92-9518-4ee3935fb9f4",
   "metadata": {},
   "source": [
    "## Query preparation"
   ]
  },
  {
   "cell_type": "code",
   "execution_count": 4,
   "id": "6b576b1d-1fef-4131-ae4d-44be300c7304",
   "metadata": {},
   "outputs": [],
   "source": [
    "# matches\n",
    "\n",
    "'''\n",
    "original query:\n",
    "INSERT INTO matches (match_id)\n",
    "VALUES (%s)\n",
    "ON CONFLICT (match_id)\n",
    "DO UPDATE SET version_1 = %s, version_2 = %s\n",
    "'''\n",
    "\n",
    "matches_query = {\n",
    "    \"INSERT\": \"INTO matches\",\n",
    "    \"ON CONFLICT\": \"(match_id)\",\n",
    "    \"DO UPDATE SET\": \"\"\n",
    "}\n",
    "\n",
    "matches_col = [\"match_id\"]\n",
    "matches_update_col = [\"version_1\", \"version_2\"]"
   ]
  },
  {
   "cell_type": "markdown",
   "id": "71c00aa6-ca91-49d8-b570-f15aa9a8f1e5",
   "metadata": {},
   "source": [
    "## Main code"
   ]
  },
  {
   "cell_type": "code",
   "execution_count": 5,
   "id": "de7b1c73-8393-48a9-9618-e751a5efe106",
   "metadata": {},
   "outputs": [
    {
     "name": "stdout",
     "output_type": "stream",
     "text": [
      "1629\n"
     ]
    }
   ],
   "source": [
    "# filter by game_start not filled in the future\n",
    "# \"select match_id from matches where game_start IS NOT NULL\"\n",
    "query = {\n",
    "    \"SELECT\": \"match_id\",\n",
    "    \"FROM\": \"matches\"\n",
    "}\n",
    "matches = connector.select_query(query)\n",
    "# call 100 matches at a time\n",
    "print(len(matches))"
   ]
  },
  {
   "cell_type": "code",
   "execution_count": 6,
   "id": "0f658bbc-c9a5-4a51-97bb-32855c50525a",
   "metadata": {},
   "outputs": [
    {
     "name": "stdout",
     "output_type": "stream",
     "text": [
      "10  matches have been updated\n",
      "20  matches have been updated\n",
      "30  matches have been updated\n",
      "40  matches have been updated\n",
      "50  matches have been updated\n",
      "60  matches have been updated\n",
      "70  matches have been updated\n",
      "80  matches have been updated\n",
      "90  matches have been updated\n",
      "have called 100 apis: 2 min break starts\n",
      "100  matches have been updated\n",
      "110  matches have been updated\n",
      "120  matches have been updated\n",
      "130  matches have been updated\n",
      "140  matches have been updated\n",
      "150  matches have been updated\n",
      "160  matches have been updated\n",
      "170  matches have been updated\n",
      "180  matches have been updated\n",
      "190  matches have been updated\n",
      "have called 200 apis: 2 min break starts\n",
      "200  matches have been updated\n",
      "210  matches have been updated\n",
      "220  matches have been updated\n",
      "230  matches have been updated\n",
      "240  matches have been updated\n",
      "250  matches have been updated\n",
      "260  matches have been updated\n",
      "270  matches have been updated\n",
      "280  matches have been updated\n",
      "290  matches have been updated\n",
      "have called 300 apis: 2 min break starts\n",
      "300  matches have been updated\n",
      "310  matches have been updated\n",
      "320  matches have been updated\n",
      "330  matches have been updated\n",
      "340  matches have been updated\n",
      "350  matches have been updated\n",
      "360  matches have been updated\n",
      "370  matches have been updated\n",
      "380  matches have been updated\n",
      "390  matches have been updated\n",
      "have called 400 apis: 2 min break starts\n",
      "400  matches have been updated\n",
      "410  matches have been updated\n",
      "420  matches have been updated\n",
      "430  matches have been updated\n",
      "440  matches have been updated\n",
      "450  matches have been updated\n",
      "460  matches have been updated\n",
      "470  matches have been updated\n",
      "480  matches have been updated\n",
      "490  matches have been updated\n",
      "have called 500 apis: 2 min break starts\n",
      "500  matches have been updated\n",
      "510  matches have been updated\n",
      "520  matches have been updated\n",
      "530  matches have been updated\n",
      "540  matches have been updated\n",
      "550  matches have been updated\n",
      "560  matches have been updated\n",
      "570  matches have been updated\n",
      "580  matches have been updated\n",
      "590  matches have been updated\n",
      "have called 600 apis: 2 min break starts\n",
      "600  matches have been updated\n",
      "610  matches have been updated\n",
      "620  matches have been updated\n",
      "630  matches have been updated\n",
      "640  matches have been updated\n",
      "650  matches have been updated\n",
      "660  matches have been updated\n",
      "670  matches have been updated\n",
      "680  matches have been updated\n",
      "690  matches have been updated\n",
      "have called 700 apis: 2 min break starts\n",
      "700  matches have been updated\n",
      "710  matches have been updated\n",
      "720  matches have been updated\n",
      "730  matches have been updated\n",
      "740  matches have been updated\n",
      "750  matches have been updated\n",
      "760  matches have been updated\n",
      "770  matches have been updated\n",
      "780  matches have been updated\n",
      "790  matches have been updated\n",
      "have called 800 apis: 2 min break starts\n",
      "800  matches have been updated\n",
      "810  matches have been updated\n",
      "820  matches have been updated\n",
      "830  matches have been updated\n",
      "840  matches have been updated\n",
      "850  matches have been updated\n",
      "860  matches have been updated\n",
      "870  matches have been updated\n",
      "880  matches have been updated\n",
      "890  matches have been updated\n",
      "have called 900 apis: 2 min break starts\n",
      "900  matches have been updated\n",
      "910  matches have been updated\n",
      "920  matches have been updated\n",
      "930  matches have been updated\n",
      "940  matches have been updated\n",
      "950  matches have been updated\n",
      "960  matches have been updated\n",
      "970  matches have been updated\n",
      "980  matches have been updated\n",
      "990  matches have been updated\n",
      "have called 1000 apis: 2 min break starts\n",
      "1000  matches have been updated\n",
      "1010  matches have been updated\n",
      "1020  matches have been updated\n",
      "1030  matches have been updated\n",
      "1040  matches have been updated\n",
      "1050  matches have been updated\n",
      "1060  matches have been updated\n",
      "1070  matches have been updated\n",
      "1080  matches have been updated\n",
      "1090  matches have been updated\n",
      "have called 1100 apis: 2 min break starts\n",
      "1100  matches have been updated\n",
      "1110  matches have been updated\n",
      "1120  matches have been updated\n",
      "1130  matches have been updated\n",
      "1140  matches have been updated\n",
      "1150  matches have been updated\n",
      "1160  matches have been updated\n",
      "1170  matches have been updated\n",
      "1180  matches have been updated\n",
      "1190  matches have been updated\n",
      "have called 1200 apis: 2 min break starts\n",
      "1200  matches have been updated\n",
      "1210  matches have been updated\n",
      "1220  matches have been updated\n",
      "1230  matches have been updated\n",
      "1240  matches have been updated\n",
      "1250  matches have been updated\n",
      "1260  matches have been updated\n",
      "1270  matches have been updated\n",
      "1280  matches have been updated\n",
      "1290  matches have been updated\n",
      "have called 1300 apis: 2 min break starts\n",
      "1300  matches have been updated\n",
      "1310  matches have been updated\n",
      "1320  matches have been updated\n",
      "1330  matches have been updated\n",
      "1340  matches have been updated\n",
      "1350  matches have been updated\n",
      "1360  matches have been updated\n",
      "1370  matches have been updated\n",
      "1380  matches have been updated\n",
      "1390  matches have been updated\n",
      "have called 1400 apis: 2 min break starts\n",
      "1400  matches have been updated\n",
      "1410  matches have been updated\n",
      "1420  matches have been updated\n",
      "1430  matches have been updated\n",
      "1440  matches have been updated\n",
      "1450  matches have been updated\n",
      "1460  matches have been updated\n",
      "1470  matches have been updated\n",
      "1480  matches have been updated\n",
      "1490  matches have been updated\n",
      "have called 1500 apis: 2 min break starts\n",
      "1500  matches have been updated\n",
      "1510  matches have been updated\n",
      "1520  matches have been updated\n",
      "1530  matches have been updated\n",
      "1540  matches have been updated\n",
      "1550  matches have been updated\n",
      "1560  matches have been updated\n",
      "1570  matches have been updated\n",
      "1580  matches have been updated\n",
      "1590  matches have been updated\n",
      "have called 1600 apis: 2 min break starts\n",
      "1600  matches have been updated\n",
      "1610  matches have been updated\n",
      "1620  matches have been updated\n"
     ]
    }
   ],
   "source": [
    "# match = (match_id, game_version as float)\n",
    "\n",
    "for idx, match in enumerate(matches):\n",
    "\n",
    "\n",
    "    data = caller.get_match_from_match_id(match[0])\n",
    "\n",
    "    version = data[\"info\"][\"gameVersion\"].split(\".\")\n",
    "\n",
    "    matches_val = (\n",
    "        match[0],\n",
    "        version[0],\n",
    "        version[1]\n",
    "    )\n",
    "    # print(matches_val)\n",
    "    connector.insert_query(matches_query, matches_col, matches_val, matches_update_col)\n",
    "\n",
    "    if (idx + 1) % 10 == 0:\n",
    "        print(idx + 1, \" matches have been updated\")"
   ]
  },
  {
   "cell_type": "code",
   "execution_count": 7,
   "id": "da671d60-f625-4604-9e30-08a6121af5a8",
   "metadata": {},
   "outputs": [
    {
     "name": "stdout",
     "output_type": "stream",
     "text": [
      "commited and ended\n"
     ]
    }
   ],
   "source": [
    "print(\"commited and ended\")\n",
    "connector.commit()\n",
    "connector.end()"
   ]
  },
  {
   "cell_type": "code",
   "execution_count": null,
   "id": "cd3e20a5-493d-43b0-9027-c09b40254287",
   "metadata": {},
   "outputs": [],
   "source": []
  }
 ],
 "metadata": {
  "kernelspec": {
   "display_name": "Python 3 (ipykernel)",
   "language": "python",
   "name": "python3"
  },
  "language_info": {
   "codemirror_mode": {
    "name": "ipython",
    "version": 3
   },
   "file_extension": ".py",
   "mimetype": "text/x-python",
   "name": "python",
   "nbconvert_exporter": "python",
   "pygments_lexer": "ipython3",
   "version": "3.9.18"
  }
 },
 "nbformat": 4,
 "nbformat_minor": 5
}
