{
 "cells": [
  {
   "cell_type": "markdown",
   "id": "3fde6d01-0c74-44e4-bbbd-d99f47ea5bb7",
   "metadata": {},
   "source": [
    "## Overview\n",
    "\n",
    "#### written on 09/29/24\n",
    "\n",
    "#### Following tasks had all been accomplished.\n",
    "\n",
    "added more columns to tables, which need to be filled.\n",
    "go over the column of match_id of matches table, fetch the game data for each game.\n",
    "\n",
    "matches (update)\n",
    "- game_start (timestamp)\n",
    "- game_end (timestamp)\n",
    "\n",
    "match_account (update)\n",
    "- damage_to_physical (int)\n",
    "- damage_to_magic (int)\n",
    "- damage_to_true (int)\n",
    "- damaged_mitigated (int)\n",
    "- damaged_self_healed (int)\n",
    "\n",
    "also, for each user, update the user info.\n",
    "\n",
    "accounts (update)\n",
    "- user_name (varchar(16))\n",
    "- tag (varchar(5))\n",
    "- lvl (smallint)\n",
    "\n",
    "after all,\n",
    "\n",
    "- remove:\n",
    "    - game_creation column from matches\n",
    "    - heal_total from match_account"
   ]
  },
  {
   "cell_type": "markdown",
   "id": "d7d6b69d-82d5-48b4-9920-7a8bbdf997ea",
   "metadata": {},
   "source": [
    "## Import"
   ]
  },
  {
   "cell_type": "code",
   "execution_count": 1,
   "id": "a1283f7a-acda-467b-a9ac-2fd122391edf",
   "metadata": {},
   "outputs": [],
   "source": [
    "import time\n",
    "import importlib\n",
    "import api_caller\n",
    "import db_connector"
   ]
  },
  {
   "cell_type": "markdown",
   "id": "2fa15a86-6b94-49f1-9d9a-12688c135939",
   "metadata": {},
   "source": [
    "## API call setting"
   ]
  },
  {
   "cell_type": "code",
   "execution_count": 2,
   "id": "8fa1e1e3-0d1f-4170-8d04-2ca1ea2caa88",
   "metadata": {},
   "outputs": [],
   "source": [
    "# Reload the module to ensure the latest changes are reflected\n",
    "importlib.reload(api_caller)\n",
    "\n",
    "caller = api_caller.APICaller()\n",
    "\n",
    "# Test your function call\n",
    "# result = caller.get_account_from_riot_id(\"NoMatterWhoUR\", \"NA1\")\n",
    "# print(result)"
   ]
  },
  {
   "cell_type": "markdown",
   "id": "5804c7cd-091b-4ab4-ac1f-b5ea90ee3d23",
   "metadata": {},
   "source": [
    "## DB connection setting"
   ]
  },
  {
   "cell_type": "code",
   "execution_count": 3,
   "id": "138cc550-07a2-46b8-84fe-2a10076bc799",
   "metadata": {},
   "outputs": [],
   "source": [
    "# Reload the module to ensure the latest changes are reflected\n",
    "importlib.reload(db_connector)\n",
    "\n",
    "connector = db_connector.DBConnector()"
   ]
  },
  {
   "cell_type": "markdown",
   "id": "f0ef7213-3a5c-44a5-a650-36375f0a7e2b",
   "metadata": {},
   "source": [
    "## Query preparation"
   ]
  },
  {
   "cell_type": "code",
   "execution_count": 4,
   "id": "e6d188e6-cddc-445a-9cf4-38981b242efb",
   "metadata": {},
   "outputs": [],
   "source": [
    "# matches\n",
    "\n",
    "'''\n",
    "original query:\n",
    "INSERT INTO matches (match_id)\n",
    "VALUES (%s)\n",
    "ON CONFLICT (match_id)\n",
    "DO UPDATE SET game_start = %s, game_end = %s\n",
    "'''\n",
    "\n",
    "matches_query = {\n",
    "    \"INSERT\": \"INTO matches\",\n",
    "    \"ON CONFLICT\": \"(match_id)\",\n",
    "    \"DO UPDATE SET\": \"\"\n",
    "}\n",
    "\n",
    "matches_col = [\"match_id\"]\n",
    "matches_update_col = [\"game_start\", \"game_end\"]"
   ]
  },
  {
   "cell_type": "code",
   "execution_count": 5,
   "id": "34244819-2fe8-4d79-9288-1e9c3b580564",
   "metadata": {},
   "outputs": [],
   "source": [
    "# accounts\n",
    "\n",
    "'''\n",
    "original query:\n",
    "INSERT INTO accounts (puuid)\n",
    "VALUES (%s)\n",
    "ON CONFLICT (puuid)\n",
    "DO UPDATE SET user_name = %s, tag = %s, lvl = %s\n",
    "'''\n",
    "\n",
    "accounts_query = {\n",
    "    \"INSERT\": \"INTO accounts\",\n",
    "    \"ON CONFLICT\": \"(puuid)\",\n",
    "    \"DO UPDATE SET\": \"\"\n",
    "}\n",
    "\n",
    "accounts_col = [\"puuid\"]\n",
    "accounts_update_col = [\"user_name\", \"tag\", \"lvl\"]"
   ]
  },
  {
   "cell_type": "code",
   "execution_count": 6,
   "id": "ca676223-f5c7-4177-9fe5-ff6775c38fbe",
   "metadata": {},
   "outputs": [],
   "source": [
    "# match_account\n",
    "\n",
    "'''\n",
    "original query:\n",
    "INSERT INTO match_account (match_id, puuid)\n",
    "VALUES (%s, %s)\n",
    "ON CONFLICT (match_id, puuid)\n",
    "DO UPDATE SET damage_to_physical = %s, damage_to_magic = %s,  damage_to_true = %s, damaged_mitigated = %s, damaged_self_heald\n",
    "'''\n",
    "\n",
    "match_account_query = {\n",
    "    \"INSERT\": \"INTO match_account\",\n",
    "    \"ON CONFLICT\": \"(match_id, puuid)\",\n",
    "    \"DO UPDATE SET\": \"\"\n",
    "}\n",
    "\n",
    "match_account_col = [\"match_id\", \"puuid\"]\n",
    "match_account_update_col = [\"damage_to_physical\", \"damage_to_magic\", \"damage_to_true\", \"damaged_mitigated\", \"damaged_self_healed\"]"
   ]
  },
  {
   "cell_type": "markdown",
   "id": "c2ddc2e3-0452-4033-a706-71dd68fc4a37",
   "metadata": {},
   "source": [
    "## Main code"
   ]
  },
  {
   "cell_type": "code",
   "execution_count": 7,
   "id": "24ca57b3-15fe-4d91-b4e5-35ad63b8e723",
   "metadata": {},
   "outputs": [],
   "source": [
    "# filter by game_start not filled in the future\n",
    "# \"select match_id from matches where game_start IS NOT NULL\"\n",
    "query = {\n",
    "    \"SELECT\": \"match_id\",\n",
    "    \"FROM\": \"matches\"\n",
    "}\n",
    "matches = connector.select_query(query)\n",
    "# call 100 matches at a time\n",
    "# print(len(matches))\n",
    "# print(matches[:10])"
   ]
  },
  {
   "cell_type": "code",
   "execution_count": 8,
   "id": "191be194-6f0d-4f01-a794-b6ac71de3fb1",
   "metadata": {
    "scrolled": true
   },
   "outputs": [
    {
     "name": "stdout",
     "output_type": "stream",
     "text": [
      "10  matches have been updated\n",
      "20  matches have been updated\n",
      "30  matches have been updated\n",
      "40  matches have been updated\n",
      "50  matches have been updated\n",
      "60  matches have been updated\n",
      "70  matches have been updated\n",
      "80  matches have been updated\n",
      "90  matches have been updated\n",
      "have called 100 apis: 2 min break starts\n",
      "100  matches have been updated\n",
      "110  matches have been updated\n",
      "120  matches have been updated\n",
      "130  matches have been updated\n",
      "140  matches have been updated\n",
      "150  matches have been updated\n",
      "160  matches have been updated\n",
      "170  matches have been updated\n",
      "180  matches have been updated\n",
      "190  matches have been updated\n",
      "have called 200 apis: 2 min break starts\n",
      "200  matches have been updated\n",
      "210  matches have been updated\n",
      "220  matches have been updated\n",
      "230  matches have been updated\n",
      "240  matches have been updated\n",
      "250  matches have been updated\n",
      "260  matches have been updated\n",
      "270  matches have been updated\n",
      "280  matches have been updated\n",
      "290  matches have been updated\n",
      "have called 300 apis: 2 min break starts\n",
      "300  matches have been updated\n",
      "310  matches have been updated\n",
      "320  matches have been updated\n",
      "330  matches have been updated\n",
      "340  matches have been updated\n",
      "350  matches have been updated\n",
      "360  matches have been updated\n",
      "370  matches have been updated\n",
      "380  matches have been updated\n",
      "390  matches have been updated\n",
      "have called 400 apis: 2 min break starts\n",
      "400  matches have been updated\n",
      "410  matches have been updated\n",
      "420  matches have been updated\n",
      "430  matches have been updated\n",
      "440  matches have been updated\n",
      "450  matches have been updated\n",
      "460  matches have been updated\n",
      "470  matches have been updated\n",
      "480  matches have been updated\n",
      "490  matches have been updated\n",
      "have called 500 apis: 2 min break starts\n",
      "500  matches have been updated\n",
      "510  matches have been updated\n",
      "520  matches have been updated\n",
      "530  matches have been updated\n",
      "540  matches have been updated\n",
      "550  matches have been updated\n",
      "560  matches have been updated\n",
      "570  matches have been updated\n",
      "580  matches have been updated\n",
      "590  matches have been updated\n",
      "have called 600 apis: 2 min break starts\n",
      "600  matches have been updated\n",
      "610  matches have been updated\n",
      "620  matches have been updated\n",
      "630  matches have been updated\n",
      "640  matches have been updated\n",
      "650  matches have been updated\n",
      "660  matches have been updated\n",
      "670  matches have been updated\n",
      "680  matches have been updated\n",
      "690  matches have been updated\n",
      "have called 700 apis: 2 min break starts\n",
      "700  matches have been updated\n",
      "710  matches have been updated\n",
      "720  matches have been updated\n",
      "730  matches have been updated\n",
      "740  matches have been updated\n",
      "750  matches have been updated\n",
      "760  matches have been updated\n",
      "770  matches have been updated\n",
      "780  matches have been updated\n",
      "790  matches have been updated\n",
      "have called 800 apis: 2 min break starts\n",
      "800  matches have been updated\n",
      "810  matches have been updated\n",
      "820  matches have been updated\n",
      "830  matches have been updated\n",
      "840  matches have been updated\n",
      "850  matches have been updated\n",
      "860  matches have been updated\n"
     ]
    }
   ],
   "source": [
    "for idx, match in enumerate(matches):\n",
    "    # print(idx)\n",
    "    # each match is a tuple with a single element for match list from DB\n",
    "    data = caller.get_match_from_match_id(match[0])\n",
    "\n",
    "    # conversion to epoch second\n",
    "    start_epoch = data[\"info\"][\"gameStartTimestamp\"] // 1000\n",
    "    end_epoch = data[\"info\"][\"gameEndTimestamp\"] // 1000\n",
    "\n",
    "    # insert (update) matches table\n",
    "    matches_val = (\n",
    "        data[\"metadata\"][\"matchId\"],\n",
    "        time.strftime('%Y-%m-%d %H:%M:%S', time.gmtime(start_epoch)),\n",
    "        time.strftime('%Y-%m-%d %H:%M:%S', time.gmtime(end_epoch))\n",
    "    )\n",
    "\n",
    "    connector.insert_query(matches_query, matches_col, matches_val, matches_update_col)\n",
    "\n",
    "    for i in range(10):\n",
    "\n",
    "        accounts_val = (data[\"info\"][\"participants\"][i][\"puuid\"], \n",
    "                        data[\"info\"][\"participants\"][i][\"riotIdGameName\"],\n",
    "                        data[\"info\"][\"participants\"][i][\"riotIdTagline\"],\n",
    "                        data[\"info\"][\"participants\"][i][\"summonerLevel\"]\n",
    "        )\n",
    "    \n",
    "        match_account_val = (data[\"metadata\"][\"matchId\"],\n",
    "                             data[\"info\"][\"participants\"][i][\"puuid\"], \n",
    "                             data[\"info\"][\"participants\"][i][\"physicalDamageDealtToChampions\"],\n",
    "                             data[\"info\"][\"participants\"][i][\"magicDamageDealtToChampions\"],\n",
    "                             data[\"info\"][\"participants\"][i][\"trueDamageDealtToChampions\"],\n",
    "                             data[\"info\"][\"participants\"][i][\"damageSelfMitigated\"],\n",
    "                             # self heal = total heal - team heal\n",
    "                             data[\"info\"][\"participants\"][i][\"totalHeal\"] - data[\"info\"][\"participants\"][i][\"totalHealsOnTeammates\"]\n",
    "        )\n",
    "        connector.insert_query(accounts_query, accounts_col, accounts_val, accounts_update_col)\n",
    "        connector.insert_query(match_account_query, match_account_col, match_account_val, match_account_update_col)\n",
    "    if (idx + 1) % 10 == 0:\n",
    "        print(idx + 1, \" matches have been updated\")"
   ]
  },
  {
   "cell_type": "code",
   "execution_count": 9,
   "id": "14d02a72-ee2a-4a7c-95e6-bdf0b63c5cd1",
   "metadata": {},
   "outputs": [
    {
     "name": "stdout",
     "output_type": "stream",
     "text": [
      "commited and ended\n"
     ]
    }
   ],
   "source": [
    "print(\"commited and ended\")\n",
    "connector.commit()\n",
    "connector.end()"
   ]
  }
 ],
 "metadata": {
  "kernelspec": {
   "display_name": "Python 3 (ipykernel)",
   "language": "python",
   "name": "python3"
  },
  "language_info": {
   "codemirror_mode": {
    "name": "ipython",
    "version": 3
   },
   "file_extension": ".py",
   "mimetype": "text/x-python",
   "name": "python",
   "nbconvert_exporter": "python",
   "pygments_lexer": "ipython3",
   "version": "3.9.18"
  }
 },
 "nbformat": 4,
 "nbformat_minor": 5
}
