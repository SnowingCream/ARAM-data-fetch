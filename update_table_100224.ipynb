{
 "cells": [
  {
   "cell_type": "markdown",
   "id": "8090b696-914f-4c87-a8c1-0b1b6b7e293c",
   "metadata": {},
   "source": [
    "## Overview\n",
    "\n",
    "#### written on 10/02/24\n",
    "\n",
    "#### Following tasks had all been accomplished.\n",
    "\n",
    "add profileIconId to account\n",
    "add item0 to match_account\n",
    "\n",
    "these two fields turned out to be in my plan; need to go over the records and fetch it again.\n",
    "\n",
    "~~add new fields~~\n",
    "~~instantly allow null for addition.~~\n",
    "run the code to fill up.\n",
    "set null constraint again.\n",
    "\n",
    "account \n",
    "- profileIconId (smallint)\n",
    "\n",
    "match_account\n",
    "- item0 (smallint)"
   ]
  },
  {
   "cell_type": "markdown",
   "id": "0d470a61-05f9-4158-9925-ba422117e88d",
   "metadata": {},
   "source": [
    "## Import"
   ]
  },
  {
   "cell_type": "code",
   "execution_count": 1,
   "id": "479dfb82-2c29-4eb0-a778-051cfe1f653a",
   "metadata": {},
   "outputs": [],
   "source": [
    "import time\n",
    "import importlib\n",
    "import api_caller\n",
    "import db_connector"
   ]
  },
  {
   "cell_type": "markdown",
   "id": "6c586d85-3341-4afc-ab19-facba70e9ee1",
   "metadata": {},
   "source": [
    "## API call setting"
   ]
  },
  {
   "cell_type": "code",
   "execution_count": 2,
   "id": "1ac0cbe2-6497-4ba6-a6cd-e07136f355b5",
   "metadata": {},
   "outputs": [],
   "source": [
    "# Reload the module to ensure the latest changes are reflected\n",
    "importlib.reload(api_caller)\n",
    "\n",
    "caller = api_caller.APICaller()\n",
    "\n",
    "# Test your function call\n",
    "# result = caller.get_account_from_riot_id(\"NoMatterWhoUR\", \"NA1\")\n",
    "# print(result)"
   ]
  },
  {
   "cell_type": "markdown",
   "id": "6285429c-1b12-4ee3-8ec3-72f2f7d43938",
   "metadata": {},
   "source": [
    "## DB connection setting"
   ]
  },
  {
   "cell_type": "code",
   "execution_count": 3,
   "id": "ba982360-5fe9-48ec-b987-0589ead46a45",
   "metadata": {},
   "outputs": [],
   "source": [
    "# Reload the module to ensure the latest changes are reflected\n",
    "importlib.reload(db_connector)\n",
    "\n",
    "connector = db_connector.DBConnector()"
   ]
  },
  {
   "cell_type": "markdown",
   "id": "0078f068-c7f9-43b4-917d-77864eff463b",
   "metadata": {},
   "source": [
    "## Query preparation"
   ]
  },
  {
   "cell_type": "code",
   "execution_count": 4,
   "id": "719da4b4-12e7-4977-a8ea-70d9ba58a364",
   "metadata": {},
   "outputs": [],
   "source": [
    "# accounts\n",
    "\n",
    "'''\n",
    "original query:\n",
    "INSERT INTO accounts (puuid)\n",
    "VALUES (%s)\n",
    "ON CONFLICT (puuid)\n",
    "DO UPDATE SET icon_id = %s\n",
    "'''\n",
    "\n",
    "accounts_query = {\n",
    "    \"INSERT\": \"INTO accounts\",\n",
    "    \"ON CONFLICT\": \"(puuid)\",\n",
    "    \"DO UPDATE SET\": \"\"\n",
    "}\n",
    "\n",
    "accounts_col = [\"puuid\"]\n",
    "accounts_update_col = [\"icon_id\"]"
   ]
  },
  {
   "cell_type": "code",
   "execution_count": 5,
   "id": "267238ec-8c1f-406c-8eef-c1afaa1803d8",
   "metadata": {},
   "outputs": [],
   "source": [
    "# match_account\n",
    "\n",
    "'''\n",
    "original query:\n",
    "INSERT INTO match_account (match_id, puuid)\n",
    "VALUES (%s, %s)\n",
    "ON CONFLICT (match_id, puuid)\n",
    "DO UPDATE SET item_0 = %s\n",
    "'''\n",
    "\n",
    "match_account_query = {\n",
    "    \"INSERT\": \"INTO match_account\",\n",
    "    \"ON CONFLICT\": \"(match_id, puuid)\",\n",
    "    \"DO UPDATE SET\": \"\"\n",
    "}\n",
    "\n",
    "match_account_col = [\"match_id\", \"puuid\"]\n",
    "match_account_update_col = [\"item_0\"]"
   ]
  },
  {
   "cell_type": "markdown",
   "id": "70f83749-51ec-47a5-9302-e1ea0757a082",
   "metadata": {},
   "source": [
    "## Main code"
   ]
  },
  {
   "cell_type": "code",
   "execution_count": 6,
   "id": "7d2d71f4-781e-4ea1-88c3-dd04a6869546",
   "metadata": {},
   "outputs": [
    {
     "name": "stdout",
     "output_type": "stream",
     "text": [
      "0\n"
     ]
    }
   ],
   "source": [
    "# only collect matches that have not gotten item_0 column yet.\n",
    "# \"select match_id from matches where  IS NOT NULL\"\n",
    "query = {\n",
    "    \"SELECT\": \"match_id\",\n",
    "    \"FROM\": \"matches\",\n",
    "    \"WHERE\": \"match_id IN (SELECT match_id FROM match_account WHERE item_0 IS NULL)\" \n",
    "}\n",
    "matches = connector.select_query(query)\n",
    "# call 100 matches at a time\n",
    "print(len(matches))\n",
    "# print(matches[:10])"
   ]
  },
  {
   "cell_type": "code",
   "execution_count": 7,
   "id": "37e61d03-980c-4aa9-9df3-7d2bdd830333",
   "metadata": {
    "scrolled": true
   },
   "outputs": [],
   "source": [
    "for idx, match in enumerate(matches):\n",
    "    # print(idx)\n",
    "    # each match is a tuple with a single element for match list from DB\n",
    "    data = caller.get_match_from_match_id(match[0])\n",
    "\n",
    "    for i in range(10):\n",
    "\n",
    "        accounts_val = (data[\"info\"][\"participants\"][i][\"puuid\"], \n",
    "                        data[\"info\"][\"participants\"][i][\"profileIcon\"]\n",
    "        )\n",
    "            \n",
    "        match_account_val = (data[\"metadata\"][\"matchId\"],\n",
    "                             data[\"info\"][\"participants\"][i][\"puuid\"], \n",
    "                             data[\"info\"][\"participants\"][i][\"item0\"]\n",
    "        )\n",
    "        connector.insert_query(accounts_query, accounts_col, accounts_val, accounts_update_col)\n",
    "        connector.insert_query(match_account_query, match_account_col, match_account_val, match_account_update_col)\n",
    "    if (idx + 1) % 10 == 0:\n",
    "        print(idx + 1, \" matches have been updated\")"
   ]
  },
  {
   "cell_type": "code",
   "execution_count": 8,
   "id": "be2b63bc-f686-4ead-b6ca-c5e0e1ec8fb0",
   "metadata": {},
   "outputs": [
    {
     "name": "stdout",
     "output_type": "stream",
     "text": [
      "599\n"
     ]
    }
   ],
   "source": [
    "# only collect puuid that have not fetched icon id yet.\n",
    "# \"select puuid from accounts where icon_id IS NULL\"\n",
    "query = {\n",
    "    \"SELECT\": \"puuid\",\n",
    "    \"FROM\": \"accounts\",\n",
    "    \"WHERE\": \"icon_id IS NULL\" \n",
    "}\n",
    "puuids = connector.select_query(query)\n",
    "# call 100 matches at a time\n",
    "print(len(puuids))\n",
    "# print(matches[:10])"
   ]
  },
  {
   "cell_type": "code",
   "execution_count": 9,
   "id": "265fca85-5c02-4dc5-9720-109a0a567e7c",
   "metadata": {},
   "outputs": [
    {
     "name": "stdout",
     "output_type": "stream",
     "text": [
      "10  accounts have been updated\n",
      "20  accounts have been updated\n",
      "30  accounts have been updated\n",
      "40  accounts have been updated\n",
      "50  accounts have been updated\n",
      "60  accounts have been updated\n",
      "70  accounts have been updated\n",
      "80  accounts have been updated\n",
      "90  accounts have been updated\n",
      "have called 100 apis: 2 min break starts\n",
      "100  accounts have been updated\n",
      "110  accounts have been updated\n",
      "120  accounts have been updated\n",
      "130  accounts have been updated\n",
      "140  accounts have been updated\n",
      "150  accounts have been updated\n",
      "160  accounts have been updated\n",
      "170  accounts have been updated\n",
      "180  accounts have been updated\n",
      "190  accounts have been updated\n",
      "have called 200 apis: 2 min break starts\n",
      "200  accounts have been updated\n",
      "210  accounts have been updated\n",
      "220  accounts have been updated\n",
      "230  accounts have been updated\n",
      "240  accounts have been updated\n",
      "250  accounts have been updated\n",
      "260  accounts have been updated\n",
      "270  accounts have been updated\n",
      "280  accounts have been updated\n",
      "290  accounts have been updated\n",
      "have called 300 apis: 2 min break starts\n",
      "300  accounts have been updated\n",
      "310  accounts have been updated\n",
      "320  accounts have been updated\n",
      "330  accounts have been updated\n",
      "340  accounts have been updated\n",
      "350  accounts have been updated\n",
      "360  accounts have been updated\n",
      "370  accounts have been updated\n",
      "380  accounts have been updated\n",
      "390  accounts have been updated\n",
      "have called 400 apis: 2 min break starts\n",
      "400  accounts have been updated\n",
      "410  accounts have been updated\n",
      "420  accounts have been updated\n",
      "430  accounts have been updated\n",
      "440  accounts have been updated\n",
      "450  accounts have been updated\n",
      "460  accounts have been updated\n",
      "470  accounts have been updated\n",
      "480  accounts have been updated\n",
      "490  accounts have been updated\n",
      "have called 500 apis: 2 min break starts\n",
      "500  accounts have been updated\n",
      "510  accounts have been updated\n",
      "520  accounts have been updated\n",
      "530  accounts have been updated\n",
      "540  accounts have been updated\n",
      "550  accounts have been updated\n",
      "560  accounts have been updated\n",
      "570  accounts have been updated\n",
      "580  accounts have been updated\n",
      "590  accounts have been updated\n"
     ]
    }
   ],
   "source": [
    "for idx, puuid in enumerate(puuids):\n",
    "    # print(idx)\n",
    "    # each match is a tuple with a single element for match list from DB\n",
    "    data = caller.get_summoner_from_puuid(puuid[0])\n",
    "\n",
    "    accounts_val = (puuid[0],\n",
    "                    data[\"profileIconId\"]\n",
    "    )\n",
    "            \n",
    "    connector.insert_query(accounts_query, accounts_col, accounts_val, accounts_update_col)\n",
    "    if (idx + 1) % 10 == 0:\n",
    "        print(idx + 1, \" accounts have been updated\")"
   ]
  },
  {
   "cell_type": "code",
   "execution_count": 10,
   "id": "de50f6eb-77bd-44be-ab02-9e7d790732f7",
   "metadata": {},
   "outputs": [
    {
     "name": "stdout",
     "output_type": "stream",
     "text": [
      "commited and ended\n"
     ]
    }
   ],
   "source": [
    "print(\"commited and ended\")\n",
    "connector.commit()\n",
    "connector.end()"
   ]
  },
  {
   "cell_type": "code",
   "execution_count": null,
   "id": "8fb0908d-4eac-4c51-9b2a-561a45e3aaf6",
   "metadata": {},
   "outputs": [],
   "source": []
  }
 ],
 "metadata": {
  "kernelspec": {
   "display_name": "Python 3 (ipykernel)",
   "language": "python",
   "name": "python3"
  },
  "language_info": {
   "codemirror_mode": {
    "name": "ipython",
    "version": 3
   },
   "file_extension": ".py",
   "mimetype": "text/x-python",
   "name": "python",
   "nbconvert_exporter": "python",
   "pygments_lexer": "ipython3",
   "version": "3.9.18"
  }
 },
 "nbformat": 4,
 "nbformat_minor": 5
}
